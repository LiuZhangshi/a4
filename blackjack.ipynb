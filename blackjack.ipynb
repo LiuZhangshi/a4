{
 "cells": [
  {
   "cell_type": "code",
   "execution_count": 1,
   "id": "9a646f6c",
   "metadata": {},
   "outputs": [],
   "source": [
    "import gym\n",
    "import pygame\n",
    "from algorithms.rl import RL\n",
    "from algorithms.planner import Planner\n",
    "from examples.test_env import TestEnv\n",
    "from examples.blackjack import Blackjack"
   ]
  },
  {
   "cell_type": "code",
   "execution_count": 2,
   "id": "d568a3a6",
   "metadata": {},
   "outputs": [],
   "source": [
    "game = Blackjack()"
   ]
  },
  {
   "cell_type": "code",
   "execution_count": 3,
   "id": "3948d6cc",
   "metadata": {},
   "outputs": [
    {
     "name": "stdout",
     "output_type": "stream",
     "text": [
      "runtime = 0.09 seconds\n"
     ]
    },
    {
     "data": {
      "text/plain": [
       "12"
      ]
     },
     "execution_count": 3,
     "metadata": {},
     "output_type": "execute_result"
    }
   ],
   "source": [
    "# Planner Value iteration\n",
    "V_viter, V_track_viter, pi_viter, n_iter_viter = Planner(game.P).value_iteration()\n",
    "n_iter_viter"
   ]
  },
  {
   "cell_type": "code",
   "execution_count": 4,
   "id": "74ebcf54",
   "metadata": {},
   "outputs": [
    {
     "name": "stdout",
     "output_type": "stream",
     "text": [
      "runtime = 0.59 seconds\n"
     ]
    },
    {
     "data": {
      "text/plain": [
       "4"
      ]
     },
     "execution_count": 4,
     "metadata": {},
     "output_type": "execute_result"
    }
   ],
   "source": [
    "# Planner policy iteration\n",
    "V_piter, V_track_piter, pi_piter, n_iter_piter = Planner(game.P).policy_iteration(gamma=1.0)\n",
    "n_iter_piter"
   ]
  },
  {
   "cell_type": "code",
   "execution_count": null,
   "id": "d571913c",
   "metadata": {},
   "outputs": [],
   "source": [
    "V_viter"
   ]
  },
  {
   "cell_type": "code",
   "execution_count": null,
   "id": "5c91fe30",
   "metadata": {},
   "outputs": [],
   "source": [
    "V_piter"
   ]
  },
  {
   "cell_type": "code",
   "execution_count": 11,
   "id": "e76c40ee",
   "metadata": {},
   "outputs": [
    {
     "name": "stderr",
     "output_type": "stream",
     "text": [
      "                                                                                                                       "
     ]
    },
    {
     "name": "stdout",
     "output_type": "stream",
     "text": [
      "runtime = 1.69 seconds\n"
     ]
    },
    {
     "name": "stderr",
     "output_type": "stream",
     "text": [
      "\r"
     ]
    }
   ],
   "source": [
    "# Q-learning default settings\n",
    "Q_ql, V_ql, pi_ql, Q_track_ql, pi_track_ql = RL(game.env).q_learning(game.n_states, game.n_actions, game.convert_state_obs)\n"
   ]
  },
  {
   "cell_type": "code",
   "execution_count": null,
   "id": "3cbc53a3",
   "metadata": {},
   "outputs": [],
   "source": [
    "pi_ql"
   ]
  },
  {
   "cell_type": "code",
   "execution_count": 10,
   "id": "af64399d",
   "metadata": {},
   "outputs": [
    {
     "name": "stderr",
     "output_type": "stream",
     "text": [
      "                                                                                                                       "
     ]
    },
    {
     "name": "stdout",
     "output_type": "stream",
     "text": [
      "runtime = 3.40 seconds\n"
     ]
    },
    {
     "name": "stderr",
     "output_type": "stream",
     "text": [
      "\r"
     ]
    }
   ],
   "source": [
    "# Q-learning\n",
    "Q_ql2, V_ql2, pi_ql2, Q_track_ql2, pi_track_ql2 = RL(game.env).q_learning(game.n_states, game.n_actions, game.convert_state_obs, n_episodes=20000, epsilon_decay_ratio=0.99, min_epsilon=0.01)"
   ]
  },
  {
   "cell_type": "code",
   "execution_count": 19,
   "id": "c0472a47",
   "metadata": {},
   "outputs": [
    {
     "data": {
      "text/plain": [
       "-0.076"
      ]
     },
     "execution_count": 19,
     "metadata": {},
     "output_type": "execute_result"
    }
   ],
   "source": [
    "test_scores_planner = TestEnv.test_env(n_iters=1000, env=game.env, render=False, user_input=False, pi=pi_viter, convert_state_obs=game.convert_state_obs)\n",
    "sum(test_scores_planner)/1000.0"
   ]
  },
  {
   "cell_type": "code",
   "execution_count": 16,
   "id": "606a44d2",
   "metadata": {},
   "outputs": [
    {
     "data": {
      "text/plain": [
       "-0.078"
      ]
     },
     "execution_count": 16,
     "metadata": {},
     "output_type": "execute_result"
    }
   ],
   "source": [
    "test_scores = TestEnv.test_env(n_iters=1000, env=game.env, render=False, user_input=False, pi=pi_ql, convert_state_obs=game.convert_state_obs)\n",
    "sum(test_scores)/1000.0"
   ]
  },
  {
   "cell_type": "code",
   "execution_count": 17,
   "id": "0f456598",
   "metadata": {},
   "outputs": [
    {
     "data": {
      "text/plain": [
       "-0.08"
      ]
     },
     "execution_count": 17,
     "metadata": {},
     "output_type": "execute_result"
    }
   ],
   "source": [
    "test_scores_ql2 = TestEnv.test_env(n_iters=1000, env=game.env, render=False, user_input=False, pi=pi_ql2, convert_state_obs=game.convert_state_obs)\n",
    "sum(test_scores_ql2)/1000.0"
   ]
  },
  {
   "cell_type": "code",
   "execution_count": null,
   "id": "486b169e",
   "metadata": {},
   "outputs": [],
   "source": []
  },
  {
   "cell_type": "code",
   "execution_count": null,
   "id": "429295c4",
   "metadata": {},
   "outputs": [],
   "source": []
  },
  {
   "cell_type": "code",
   "execution_count": null,
   "id": "eb019bbc",
   "metadata": {},
   "outputs": [],
   "source": []
  },
  {
   "cell_type": "code",
   "execution_count": null,
   "id": "bf8acb1d",
   "metadata": {},
   "outputs": [],
   "source": []
  },
  {
   "cell_type": "code",
   "execution_count": null,
   "id": "03d57dda",
   "metadata": {},
   "outputs": [],
   "source": []
  },
  {
   "cell_type": "code",
   "execution_count": null,
   "id": "e18b46c9",
   "metadata": {},
   "outputs": [],
   "source": [
    "V_ql"
   ]
  },
  {
   "cell_type": "code",
   "execution_count": null,
   "id": "70c803fa",
   "metadata": {},
   "outputs": [],
   "source": [
    "# SARSA\n",
    "Q_sarsa, V_sarsa, pi_sarsa, Q_track_sarsa, pi_track_sarsa = RL(game.env).sarsa(game.n_states, game.n_actions, game.convert_state_obs)"
   ]
  },
  {
   "cell_type": "code",
   "execution_count": null,
   "id": "21266ca1",
   "metadata": {},
   "outputs": [],
   "source": [
    "V_sarsa"
   ]
  },
  {
   "cell_type": "code",
   "execution_count": null,
   "id": "f0df5b30",
   "metadata": {},
   "outputs": [],
   "source": [
    "test_scores = TestEnv.test_env(n_iters=10, env=game.env, render=True, user_input=False, pi=pi_viter)"
   ]
  },
  {
   "cell_type": "code",
   "execution_count": null,
   "id": "92c360e2",
   "metadata": {},
   "outputs": [],
   "source": [
    "test_scores"
   ]
  },
  {
   "cell_type": "code",
   "execution_count": null,
   "id": "50eca3bb",
   "metadata": {},
   "outputs": [],
   "source": []
  }
 ],
 "metadata": {
  "kernelspec": {
   "display_name": "Python 3 (ipykernel)",
   "language": "python",
   "name": "python3"
  },
  "language_info": {
   "codemirror_mode": {
    "name": "ipython",
    "version": 3
   },
   "file_extension": ".py",
   "mimetype": "text/x-python",
   "name": "python",
   "nbconvert_exporter": "python",
   "pygments_lexer": "ipython3",
   "version": "3.10.9"
  }
 },
 "nbformat": 4,
 "nbformat_minor": 5
}
